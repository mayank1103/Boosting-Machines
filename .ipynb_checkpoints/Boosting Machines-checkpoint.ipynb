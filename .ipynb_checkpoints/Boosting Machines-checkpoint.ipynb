{
 "cells": [
  {
   "cell_type": "code",
   "execution_count": 3,
   "metadata": {},
   "outputs": [
    {
     "ename": "ModuleNotFoundError",
     "evalue": "No module named 'xgboost'",
     "output_type": "error",
     "traceback": [
      "\u001b[1;31m---------------------------------------------------------------------------\u001b[0m",
      "\u001b[1;31mModuleNotFoundError\u001b[0m                       Traceback (most recent call last)",
      "\u001b[1;32m<ipython-input-3-04d7218370f1>\u001b[0m in \u001b[0;36m<module>\u001b[1;34m()\u001b[0m\n\u001b[0;32m      4\u001b[0m \u001b[1;32mfrom\u001b[0m \u001b[0msklearn\u001b[0m\u001b[1;33m.\u001b[0m\u001b[0mtree\u001b[0m \u001b[1;32mimport\u001b[0m \u001b[0mDecisionTreeClassifier\u001b[0m\u001b[1;33m\u001b[0m\u001b[0m\n\u001b[0;32m      5\u001b[0m \u001b[1;32mfrom\u001b[0m \u001b[0msklearn\u001b[0m\u001b[1;33m.\u001b[0m\u001b[0mensemble\u001b[0m \u001b[1;32mimport\u001b[0m \u001b[0mAdaBoostClassifier\u001b[0m\u001b[1;33m\u001b[0m\u001b[0m\n\u001b[1;32m----> 6\u001b[1;33m \u001b[1;32mfrom\u001b[0m \u001b[0mxgboost\u001b[0m\u001b[1;33m.\u001b[0m\u001b[0msklearn\u001b[0m \u001b[1;32mimport\u001b[0m \u001b[0mXGBClassifier\u001b[0m\u001b[1;33m\u001b[0m\u001b[0m\n\u001b[0m",
      "\u001b[1;31mModuleNotFoundError\u001b[0m: No module named 'xgboost'"
     ]
    }
   ],
   "source": [
    "import pandas as pd\n",
    "import numpy as np\n",
    "from sklearn.model_selection import RandomizedSearchCV,train_test_split,GridSearchCV\n",
    "from sklearn.tree import DecisionTreeClassifier\n",
    "from sklearn.ensemble import AdaBoostClassifier\n",
    "from xgboost.sklearn import XGBClassifier"
   ]
  },
  {
   "cell_type": "code",
   "execution_count": null,
   "metadata": {},
   "outputs": [],
   "source": [
    "##Boosting Machines"
   ]
  },
  {
   "cell_type": "code",
   "execution_count": 4,
   "metadata": {},
   "outputs": [],
   "source": [
    "# data prep from previous module\n",
    "file='C:/R/Data/census_income.csv'\n",
    "\n",
    "ci=pd.read_csv(file)\n"
   ]
  },
  {
   "cell_type": "code",
   "execution_count": 4,
   "metadata": {
    "collapsed": true
   },
   "outputs": [],
   "source": [
    "# there is perfect correspondance between education and education.num, we'll drop education\n",
    "ci.drop('education',axis=1,inplace=True)\n",
    "\n",
    "# convert target Y to 1,0\n",
    "ci['Y']=(ci['Y']==' >50K').astype(int)"
   ]
  },
  {
   "cell_type": "code",
   "execution_count": 5,
   "metadata": {
    "collapsed": true
   },
   "outputs": [],
   "source": [
    "cat_cols=ci.select_dtypes(['object']).columns"
   ]
  },
  {
   "cell_type": "code",
   "execution_count": 6,
   "metadata": {},
   "outputs": [
    {
     "data": {
      "text/plain": [
       "Index(['workclass', 'marital.status', 'occupation', 'relationship', 'race',\n",
       "       'sex', 'native.country'],\n",
       "      dtype='object')"
      ]
     },
     "execution_count": 6,
     "metadata": {},
     "output_type": "execute_result"
    }
   ],
   "source": [
    "cat_cols"
   ]
  },
  {
   "cell_type": "code",
   "execution_count": 8,
   "metadata": {},
   "outputs": [
    {
     "name": "stdout",
     "output_type": "stream",
     "text": [
      "workclass\n",
      "marital.status\n",
      "occupation\n",
      "relationship\n",
      "race\n",
      "sex\n",
      "native.country\n"
     ]
    }
   ],
   "source": [
    "for col in cat_cols:\n",
    "    freqs=ci[col].value_counts()\n",
    "    selected_cats=freqs.index[freqs>100][:-1]\n",
    "    \n",
    "    print(col)\n",
    "    for cat in selected_cats:\n",
    "        name=col+'_'+cat\n",
    "        \n",
    "        ci[name]=(ci[col]==cat).astype(int)\n",
    "    del ci[col]\n",
    "    "
   ]
  },
  {
   "cell_type": "code",
   "execution_count": 9,
   "metadata": {},
   "outputs": [
    {
     "data": {
      "text/plain": [
       "(32561, 48)"
      ]
     },
     "execution_count": 9,
     "metadata": {},
     "output_type": "execute_result"
    }
   ],
   "source": [
    "ci.shape"
   ]
  },
  {
   "cell_type": "code",
   "execution_count": 12,
   "metadata": {
    "collapsed": true
   },
   "outputs": [],
   "source": [
    "ci_train,ci_test=train_test_split(ci,test_size=0.2,random_state=2)"
   ]
  },
  {
   "cell_type": "code",
   "execution_count": 20,
   "metadata": {
    "collapsed": true
   },
   "outputs": [],
   "source": [
    "ci_train.reset_index(drop=True,inplace=True)\n",
    "ci_test.reset_index(drop=True,inplace=True)"
   ]
  },
  {
   "cell_type": "code",
   "execution_count": 22,
   "metadata": {
    "collapsed": true
   },
   "outputs": [],
   "source": [
    "x_train=ci_train.drop('Y',axis=1)\n",
    "x_test=ci_test.drop('Y',axis=1)\n",
    "\n",
    "y_train=ci_train['Y']\n",
    "y_test=ci_test['Y']"
   ]
  },
  {
   "cell_type": "code",
   "execution_count": 23,
   "metadata": {
    "collapsed": true
   },
   "outputs": [],
   "source": [
    "base_clf=DecisionTreeClassifier(max_leaf_nodes=4,class_weight='balanced')"
   ]
  },
  {
   "cell_type": "code",
   "execution_count": 30,
   "metadata": {
    "collapsed": true
   },
   "outputs": [],
   "source": [
    "adb_params={'n_estimators':[50,100,200,500,700],\n",
    "           'learning_rate': [0.01,.1,1]\n",
    "           }\n",
    "adb=AdaBoostClassifier(base_estimator=base_clf)\n",
    "# you will need to tune parameters for base classifier [ which is being boosted ] separately "
   ]
  },
  {
   "cell_type": "code",
   "execution_count": 33,
   "metadata": {
    "collapsed": true
   },
   "outputs": [],
   "source": [
    "complete_search=GridSearchCV(adb,scoring='roc_auc',param_grid=adb_params,cv=10,n_jobs=-1,verbose=2)"
   ]
  },
  {
   "cell_type": "code",
   "execution_count": 34,
   "metadata": {},
   "outputs": [
    {
     "name": "stdout",
     "output_type": "stream",
     "text": [
      "Fitting 10 folds for each of 15 candidates, totalling 150 fits\n",
      "[CV] learning_rate=0.01, n_estimators=50 .............................\n",
      "[CV] learning_rate=0.01, n_estimators=50 .............................\n",
      "[CV] learning_rate=0.01, n_estimators=50 .............................\n",
      "[CV] learning_rate=0.01, n_estimators=50 .............................\n",
      "[CV] .............. learning_rate=0.01, n_estimators=50, total=   5.1s\n",
      "[CV] .............. learning_rate=0.01, n_estimators=50, total=   5.2s\n",
      "[CV] learning_rate=0.01, n_estimators=50 .............................\n",
      "[CV] learning_rate=0.01, n_estimators=50 .............................\n",
      "[CV] .............. learning_rate=0.01, n_estimators=50, total=   5.2s\n",
      "[CV] .............. learning_rate=0.01, n_estimators=50, total=   5.1s\n",
      "[CV] learning_rate=0.01, n_estimators=50 .............................\n",
      "[CV] learning_rate=0.01, n_estimators=50 .............................\n",
      "[CV] .............. learning_rate=0.01, n_estimators=50, total=   5.0s\n",
      "[CV] .............. learning_rate=0.01, n_estimators=50, total=   5.0s\n",
      "[CV] learning_rate=0.01, n_estimators=50 .............................\n",
      "[CV] learning_rate=0.01, n_estimators=50 .............................\n",
      "[CV] .............. learning_rate=0.01, n_estimators=50, total=   5.0s\n",
      "[CV] learning_rate=0.01, n_estimators=100 ............................\n",
      "[CV] .............. learning_rate=0.01, n_estimators=50, total=   5.1s\n",
      "[CV] learning_rate=0.01, n_estimators=100 ............................\n",
      "[CV] .............. learning_rate=0.01, n_estimators=50, total=   4.7s\n",
      "[CV] learning_rate=0.01, n_estimators=100 ............................\n",
      "[CV] .............. learning_rate=0.01, n_estimators=50, total=   4.7s\n",
      "[CV] learning_rate=0.01, n_estimators=100 ............................\n",
      "[CV] ............. learning_rate=0.01, n_estimators=100, total=   9.6s\n",
      "[CV] learning_rate=0.01, n_estimators=100 ............................\n",
      "[CV] ............. learning_rate=0.01, n_estimators=100, total=   9.6s\n",
      "[CV] learning_rate=0.01, n_estimators=100 ............................\n",
      "[CV] ............. learning_rate=0.01, n_estimators=100, total=   9.8s\n",
      "[CV] learning_rate=0.01, n_estimators=100 ............................\n",
      "[CV] ............. learning_rate=0.01, n_estimators=100, total=  10.0s\n",
      "[CV] learning_rate=0.01, n_estimators=100 ............................\n",
      "[CV] ............. learning_rate=0.01, n_estimators=100, total=  10.3s\n",
      "[CV] learning_rate=0.01, n_estimators=100 ............................\n",
      "[CV] ............. learning_rate=0.01, n_estimators=100, total=  10.4s\n",
      "[CV] learning_rate=0.01, n_estimators=100 ............................\n",
      "[CV] ............. learning_rate=0.01, n_estimators=100, total=  11.5s\n",
      "[CV] learning_rate=0.01, n_estimators=200 ............................\n",
      "[CV] ............. learning_rate=0.01, n_estimators=100, total=  11.6s\n",
      "[CV] learning_rate=0.01, n_estimators=200 ............................\n",
      "[CV] ............. learning_rate=0.01, n_estimators=100, total=  12.0s\n",
      "[CV] learning_rate=0.01, n_estimators=200 ............................\n",
      "[CV] ............. learning_rate=0.01, n_estimators=100, total=  12.1s\n",
      "[CV] learning_rate=0.01, n_estimators=200 ............................\n",
      "[CV] ............. learning_rate=0.01, n_estimators=200, total=  21.5s\n",
      "[CV] learning_rate=0.01, n_estimators=200 ............................\n",
      "[CV] ............. learning_rate=0.01, n_estimators=200, total=  21.6s\n",
      "[CV] learning_rate=0.01, n_estimators=200 ............................\n",
      "[CV] ............. learning_rate=0.01, n_estimators=200, total=  20.7s\n",
      "[CV] learning_rate=0.01, n_estimators=200 ............................\n",
      "[CV] ............. learning_rate=0.01, n_estimators=200, total=  21.0s\n",
      "[CV] learning_rate=0.01, n_estimators=200 ............................\n",
      "[CV] ............. learning_rate=0.01, n_estimators=200, total=  21.0s\n",
      "[CV] learning_rate=0.01, n_estimators=200 ............................\n",
      "[CV] ............. learning_rate=0.01, n_estimators=200, total=  21.3s\n",
      "[CV] learning_rate=0.01, n_estimators=200 ............................\n",
      "[CV] ............. learning_rate=0.01, n_estimators=200, total=  21.2s\n",
      "[CV] learning_rate=0.01, n_estimators=500 ............................\n",
      "[CV] ............. learning_rate=0.01, n_estimators=200, total=  21.1s\n",
      "[CV] learning_rate=0.01, n_estimators=500 ............................\n",
      "[CV] ............. learning_rate=0.01, n_estimators=200, total=  21.6s\n",
      "[CV] learning_rate=0.01, n_estimators=500 ............................\n",
      "[CV] ............. learning_rate=0.01, n_estimators=200, total=  21.3s\n",
      "[CV] learning_rate=0.01, n_estimators=500 ............................\n",
      "[CV] ............. learning_rate=0.01, n_estimators=500, total=  53.0s\n",
      "[CV] learning_rate=0.01, n_estimators=500 ............................\n",
      "[CV] ............. learning_rate=0.01, n_estimators=500, total=  53.4s\n",
      "[CV] learning_rate=0.01, n_estimators=500 ............................\n",
      "[CV] ............. learning_rate=0.01, n_estimators=500, total=  52.9s\n",
      "[CV] learning_rate=0.01, n_estimators=500 ............................\n"
     ]
    },
    {
     "name": "stderr",
     "output_type": "stream",
     "text": [
      "[Parallel(n_jobs=-1)]: Done  33 tasks      | elapsed:  2.7min\n"
     ]
    },
    {
     "name": "stdout",
     "output_type": "stream",
     "text": [
      "[CV] ............. learning_rate=0.01, n_estimators=500, total=  53.5s\n",
      "[CV] learning_rate=0.01, n_estimators=500 ............................\n",
      "[CV] ............. learning_rate=0.01, n_estimators=500, total=  51.7s\n",
      "[CV] learning_rate=0.01, n_estimators=500 ............................\n",
      "[CV] ............. learning_rate=0.01, n_estimators=500, total=  51.6s\n",
      "[CV] learning_rate=0.01, n_estimators=500 ............................\n",
      "[CV] ............. learning_rate=0.01, n_estimators=500, total=  51.0s\n",
      "[CV] learning_rate=0.01, n_estimators=700 ............................\n",
      "[CV] ............. learning_rate=0.01, n_estimators=500, total=  50.5s\n",
      "[CV] learning_rate=0.01, n_estimators=700 ............................\n",
      "[CV] ............. learning_rate=0.01, n_estimators=500, total=  51.2s\n",
      "[CV] learning_rate=0.01, n_estimators=700 ............................\n",
      "[CV] ............. learning_rate=0.01, n_estimators=500, total=  50.9s\n",
      "[CV] learning_rate=0.01, n_estimators=700 ............................\n",
      "[CV] ............. learning_rate=0.01, n_estimators=700, total= 1.2min\n",
      "[CV] learning_rate=0.01, n_estimators=700 ............................\n",
      "[CV] ............. learning_rate=0.01, n_estimators=700, total= 1.2min\n",
      "[CV] learning_rate=0.01, n_estimators=700 ............................\n",
      "[CV] ............. learning_rate=0.01, n_estimators=700, total= 1.2min\n",
      "[CV] learning_rate=0.01, n_estimators=700 ............................\n",
      "[CV] ............. learning_rate=0.01, n_estimators=700, total= 1.2min\n",
      "[CV] learning_rate=0.01, n_estimators=700 ............................\n",
      "[CV] ............. learning_rate=0.01, n_estimators=700, total= 1.2min\n",
      "[CV] learning_rate=0.01, n_estimators=700 ............................\n",
      "[CV] ............. learning_rate=0.01, n_estimators=700, total= 1.2min\n",
      "[CV] learning_rate=0.01, n_estimators=700 ............................\n",
      "[CV] ............. learning_rate=0.01, n_estimators=700, total= 1.2min\n",
      "[CV] learning_rate=0.1, n_estimators=50 ..............................\n",
      "[CV] ............. learning_rate=0.01, n_estimators=700, total= 1.3min\n",
      "[CV] learning_rate=0.1, n_estimators=50 ..............................\n",
      "[CV] ............... learning_rate=0.1, n_estimators=50, total=   5.8s\n",
      "[CV] learning_rate=0.1, n_estimators=50 ..............................\n",
      "[CV] ............... learning_rate=0.1, n_estimators=50, total=   6.0s\n",
      "[CV] learning_rate=0.1, n_estimators=50 ..............................\n",
      "[CV] ............... learning_rate=0.1, n_estimators=50, total=   6.5s\n",
      "[CV] learning_rate=0.1, n_estimators=50 ..............................\n",
      "[CV] ............... learning_rate=0.1, n_estimators=50, total=   6.6s\n",
      "[CV] learning_rate=0.1, n_estimators=50 ..............................\n",
      "[CV] ............... learning_rate=0.1, n_estimators=50, total=   5.5s\n",
      "[CV] learning_rate=0.1, n_estimators=50 ..............................\n",
      "[CV] ............... learning_rate=0.1, n_estimators=50, total=   5.6s\n",
      "[CV] learning_rate=0.1, n_estimators=50 ..............................\n",
      "[CV] ............... learning_rate=0.1, n_estimators=50, total=   5.1s\n",
      "[CV] learning_rate=0.1, n_estimators=50 ..............................\n",
      "[CV] ............... learning_rate=0.1, n_estimators=50, total=   5.2s\n",
      "[CV] learning_rate=0.1, n_estimators=50 ..............................\n",
      "[CV] ............... learning_rate=0.1, n_estimators=50, total=   5.1s\n",
      "[CV] learning_rate=0.1, n_estimators=100 .............................\n",
      "[CV] ............... learning_rate=0.1, n_estimators=50, total=   5.1s\n",
      "[CV] learning_rate=0.1, n_estimators=100 .............................\n",
      "[CV] ............. learning_rate=0.01, n_estimators=700, total= 1.3min\n",
      "[CV] learning_rate=0.1, n_estimators=100 .............................\n",
      "[CV] ............. learning_rate=0.01, n_estimators=700, total= 1.3min\n",
      "[CV] learning_rate=0.1, n_estimators=100 .............................\n",
      "[CV] .............. learning_rate=0.1, n_estimators=100, total=  10.8s\n",
      "[CV] learning_rate=0.1, n_estimators=100 .............................\n",
      "[CV] .............. learning_rate=0.1, n_estimators=100, total=  10.6s\n",
      "[CV] learning_rate=0.1, n_estimators=100 .............................\n",
      "[CV] .............. learning_rate=0.1, n_estimators=100, total=  10.5s\n",
      "[CV] learning_rate=0.1, n_estimators=100 .............................\n",
      "[CV] .............. learning_rate=0.1, n_estimators=100, total=  10.4s\n",
      "[CV] learning_rate=0.1, n_estimators=100 .............................\n",
      "[CV] .............. learning_rate=0.1, n_estimators=100, total=  10.7s\n",
      "[CV] learning_rate=0.1, n_estimators=100 .............................\n",
      "[CV] .............. learning_rate=0.1, n_estimators=100, total=  10.4s\n",
      "[CV] learning_rate=0.1, n_estimators=100 .............................\n",
      "[CV] .............. learning_rate=0.1, n_estimators=100, total=  10.2s\n",
      "[CV] learning_rate=0.1, n_estimators=200 .............................\n",
      "[CV] .............. learning_rate=0.1, n_estimators=100, total=  10.2s\n",
      "[CV] learning_rate=0.1, n_estimators=200 .............................\n",
      "[CV] .............. learning_rate=0.1, n_estimators=100, total=  10.2s\n",
      "[CV] learning_rate=0.1, n_estimators=200 .............................\n",
      "[CV] .............. learning_rate=0.1, n_estimators=100, total=  10.1s\n",
      "[CV] learning_rate=0.1, n_estimators=200 .............................\n",
      "[CV] .............. learning_rate=0.1, n_estimators=200, total=  19.1s\n",
      "[CV] learning_rate=0.1, n_estimators=200 .............................\n",
      "[CV] .............. learning_rate=0.1, n_estimators=200, total=  18.9s\n",
      "[CV] learning_rate=0.1, n_estimators=200 .............................\n",
      "[CV] .............. learning_rate=0.1, n_estimators=200, total=  19.3s\n",
      "[CV] learning_rate=0.1, n_estimators=200 .............................\n",
      "[CV] .............. learning_rate=0.1, n_estimators=200, total=  19.2s\n",
      "[CV] learning_rate=0.1, n_estimators=200 .............................\n",
      "[CV] .............. learning_rate=0.1, n_estimators=200, total=  19.4s\n",
      "[CV] learning_rate=0.1, n_estimators=200 .............................\n",
      "[CV] .............. learning_rate=0.1, n_estimators=200, total=  19.4s\n",
      "[CV] learning_rate=0.1, n_estimators=200 .............................\n",
      "[CV] .............. learning_rate=0.1, n_estimators=200, total=  19.2s\n",
      "[CV] learning_rate=0.1, n_estimators=500 .............................\n",
      "[CV] .............. learning_rate=0.1, n_estimators=200, total=  20.1s\n",
      "[CV] learning_rate=0.1, n_estimators=500 .............................\n",
      "[CV] .............. learning_rate=0.1, n_estimators=200, total=  20.5s\n",
      "[CV] learning_rate=0.1, n_estimators=500 .............................\n",
      "[CV] .............. learning_rate=0.1, n_estimators=200, total=  20.1s\n",
      "[CV] learning_rate=0.1, n_estimators=500 .............................\n",
      "[CV] .............. learning_rate=0.1, n_estimators=500, total=  44.6s\n",
      "[CV] learning_rate=0.1, n_estimators=500 .............................\n",
      "[CV] .............. learning_rate=0.1, n_estimators=500, total=  44.6s\n",
      "[CV] learning_rate=0.1, n_estimators=500 .............................\n",
      "[CV] .............. learning_rate=0.1, n_estimators=500, total=  44.0s\n",
      "[CV] learning_rate=0.1, n_estimators=500 .............................\n",
      "[CV] .............. learning_rate=0.1, n_estimators=500, total=  43.6s\n",
      "[CV] learning_rate=0.1, n_estimators=500 .............................\n",
      "[CV] .............. learning_rate=0.1, n_estimators=500, total=  44.0s\n",
      "[CV] learning_rate=0.1, n_estimators=500 .............................\n",
      "[CV] .............. learning_rate=0.1, n_estimators=500, total=  44.2s\n",
      "[CV] learning_rate=0.1, n_estimators=500 .............................\n",
      "[CV] .............. learning_rate=0.1, n_estimators=500, total=  44.7s\n",
      "[CV] learning_rate=0.1, n_estimators=700 .............................\n",
      "[CV] .............. learning_rate=0.1, n_estimators=500, total=  45.3s\n",
      "[CV] learning_rate=0.1, n_estimators=700 .............................\n",
      "[CV] .............. learning_rate=0.1, n_estimators=500, total=  44.8s\n",
      "[CV] learning_rate=0.1, n_estimators=700 .............................\n",
      "[CV] .............. learning_rate=0.1, n_estimators=500, total=  45.0s\n",
      "[CV] learning_rate=0.1, n_estimators=700 .............................\n",
      "[CV] .............. learning_rate=0.1, n_estimators=700, total=  59.7s\n",
      "[CV] learning_rate=0.1, n_estimators=700 .............................\n"
     ]
    },
    {
     "name": "stdout",
     "output_type": "stream",
     "text": [
      "[CV] .............. learning_rate=0.1, n_estimators=700, total=  59.9s\n",
      "[CV] learning_rate=0.1, n_estimators=700 .............................\n",
      "[CV] .............. learning_rate=0.1, n_estimators=700, total=  60.0s\n",
      "[CV] learning_rate=0.1, n_estimators=700 .............................\n",
      "[CV] .............. learning_rate=0.1, n_estimators=700, total= 1.0min\n",
      "[CV] learning_rate=0.1, n_estimators=700 .............................\n",
      "[CV] .............. learning_rate=0.1, n_estimators=700, total= 1.0min\n",
      "[CV] learning_rate=0.1, n_estimators=700 .............................\n",
      "[CV] .............. learning_rate=0.1, n_estimators=700, total= 1.0min\n",
      "[CV] learning_rate=0.1, n_estimators=700 .............................\n",
      "[CV] .............. learning_rate=0.1, n_estimators=700, total= 1.0min\n",
      "[CV] learning_rate=1, n_estimators=50 ................................\n",
      "[CV] .............. learning_rate=0.1, n_estimators=700, total= 1.0min\n",
      "[CV] learning_rate=1, n_estimators=50 ................................\n",
      "[CV] ................. learning_rate=1, n_estimators=50, total=   4.8s\n",
      "[CV] learning_rate=1, n_estimators=50 ................................\n",
      "[CV] ................. learning_rate=1, n_estimators=50, total=   4.6s\n",
      "[CV] learning_rate=1, n_estimators=50 ................................\n",
      "[CV] ................. learning_rate=1, n_estimators=50, total=   4.6s\n",
      "[CV] learning_rate=1, n_estimators=50 ................................\n",
      "[CV] ................. learning_rate=1, n_estimators=50, total=   4.7s\n",
      "[CV] learning_rate=1, n_estimators=50 ................................\n",
      "[CV] ................. learning_rate=1, n_estimators=50, total=   4.6s\n",
      "[CV] learning_rate=1, n_estimators=50 ................................\n",
      "[CV] ................. learning_rate=1, n_estimators=50, total=   4.9s\n",
      "[CV] learning_rate=1, n_estimators=50 ................................\n",
      "[CV] ................. learning_rate=1, n_estimators=50, total=   4.7s\n",
      "[CV] learning_rate=1, n_estimators=50 ................................\n",
      "[CV] ................. learning_rate=1, n_estimators=50, total=   4.6s\n",
      "[CV] learning_rate=1, n_estimators=50 ................................\n",
      "[CV] ................. learning_rate=1, n_estimators=50, total=   4.8s\n",
      "[CV] learning_rate=1, n_estimators=100 ...............................\n",
      "[CV] ................. learning_rate=1, n_estimators=50, total=   4.6s\n",
      "[CV] learning_rate=1, n_estimators=100 ...............................\n",
      "[CV] .............. learning_rate=0.1, n_estimators=700, total=  58.9s\n",
      "[CV] learning_rate=1, n_estimators=100 ...............................\n",
      "[CV] ................ learning_rate=1, n_estimators=100, total=   9.3s\n",
      "[CV] learning_rate=1, n_estimators=100 ...............................\n",
      "[CV] .............. learning_rate=0.1, n_estimators=700, total= 1.0min\n",
      "[CV] learning_rate=1, n_estimators=100 ...............................\n",
      "[CV] ................ learning_rate=1, n_estimators=100, total=   9.5s\n",
      "[CV] learning_rate=1, n_estimators=100 ...............................\n",
      "[CV] ................ learning_rate=1, n_estimators=100, total=   9.3s\n",
      "[CV] learning_rate=1, n_estimators=100 ...............................\n",
      "[CV] ................ learning_rate=1, n_estimators=100, total=   9.3s\n",
      "[CV] learning_rate=1, n_estimators=100 ...............................\n",
      "[CV] ................ learning_rate=1, n_estimators=100, total=   9.3s\n",
      "[CV] learning_rate=1, n_estimators=100 ...............................\n",
      "[CV] ................ learning_rate=1, n_estimators=100, total=   9.2s\n",
      "[CV] learning_rate=1, n_estimators=100 ...............................\n",
      "[CV] ................ learning_rate=1, n_estimators=100, total=   8.9s\n",
      "[CV] learning_rate=1, n_estimators=200 ...............................\n",
      "[CV] ................ learning_rate=1, n_estimators=100, total=   9.4s\n",
      "[CV] learning_rate=1, n_estimators=200 ...............................\n",
      "[CV] ................ learning_rate=1, n_estimators=100, total=   9.0s\n",
      "[CV] learning_rate=1, n_estimators=200 ...............................\n",
      "[CV] ................ learning_rate=1, n_estimators=100, total=   8.9s\n",
      "[CV] learning_rate=1, n_estimators=200 ...............................\n",
      "[CV] ................ learning_rate=1, n_estimators=200, total=  17.1s\n",
      "[CV] learning_rate=1, n_estimators=200 ...............................\n",
      "[CV] ................ learning_rate=1, n_estimators=200, total=  17.0s\n",
      "[CV] ................ learning_rate=1, n_estimators=200, total=  16.7s\n",
      "[CV] learning_rate=1, n_estimators=200 ...............................\n",
      "[CV] learning_rate=1, n_estimators=200 ...............................\n",
      "[CV] ................ learning_rate=1, n_estimators=200, total=  17.0s\n",
      "[CV] learning_rate=1, n_estimators=200 ...............................\n",
      "[CV] ................ learning_rate=1, n_estimators=200, total=  17.7s\n",
      "[CV] learning_rate=1, n_estimators=200 ...............................\n",
      "[CV] ................ learning_rate=1, n_estimators=200, total=  18.5s\n",
      "[CV] ................ learning_rate=1, n_estimators=200, total=  18.5s\n",
      "[CV] learning_rate=1, n_estimators=200 ...............................\n",
      "[CV] learning_rate=1, n_estimators=500 ...............................\n",
      "[CV] ................ learning_rate=1, n_estimators=200, total=  18.3s\n",
      "[CV] learning_rate=1, n_estimators=500 ...............................\n",
      "[CV] ................ learning_rate=1, n_estimators=200, total=  18.5s\n",
      "[CV] learning_rate=1, n_estimators=500 ...............................\n",
      "[CV] ................ learning_rate=1, n_estimators=200, total=  17.6s\n",
      "[CV] learning_rate=1, n_estimators=500 ...............................\n",
      "[CV] ................ learning_rate=1, n_estimators=500, total=  42.9s\n",
      "[CV] learning_rate=1, n_estimators=500 ...............................\n",
      "[CV] ................ learning_rate=1, n_estimators=500, total=  42.6s\n",
      "[CV] learning_rate=1, n_estimators=500 ...............................\n",
      "[CV] ................ learning_rate=1, n_estimators=500, total=  46.2s\n",
      "[CV] learning_rate=1, n_estimators=500 ...............................\n",
      "[CV] ................ learning_rate=1, n_estimators=500, total=  46.5s\n",
      "[CV] learning_rate=1, n_estimators=500 ...............................\n",
      "[CV] ................ learning_rate=1, n_estimators=500, total=  47.4s\n",
      "[CV] learning_rate=1, n_estimators=500 ...............................\n",
      "[CV] ................ learning_rate=1, n_estimators=500, total=  47.7s\n",
      "[CV] learning_rate=1, n_estimators=500 ...............................\n",
      "[CV] ................ learning_rate=1, n_estimators=500, total=  43.3s\n",
      "[CV] learning_rate=1, n_estimators=700 ...............................\n",
      "[CV] ................ learning_rate=1, n_estimators=500, total=  43.4s\n",
      "[CV] learning_rate=1, n_estimators=700 ...............................\n",
      "[CV] ................ learning_rate=1, n_estimators=500, total=  42.7s\n",
      "[CV] learning_rate=1, n_estimators=700 ...............................\n",
      "[CV] ................ learning_rate=1, n_estimators=500, total=  41.8s\n",
      "[CV] learning_rate=1, n_estimators=700 ...............................\n",
      "[CV] ................ learning_rate=1, n_estimators=700, total=  59.6s\n",
      "[CV] learning_rate=1, n_estimators=700 ...............................\n",
      "[CV] ................ learning_rate=1, n_estimators=700, total=  59.5s\n",
      "[CV] learning_rate=1, n_estimators=700 ...............................\n",
      "[CV] ................ learning_rate=1, n_estimators=700, total= 1.0min\n",
      "[CV] ................ learning_rate=1, n_estimators=700, total= 1.0min\n",
      "[CV] learning_rate=1, n_estimators=700 ...............................\n",
      "[CV] learning_rate=1, n_estimators=700 ...............................\n",
      "[CV] ................ learning_rate=1, n_estimators=700, total= 1.1min\n",
      "[CV] learning_rate=1, n_estimators=700 ...............................\n",
      "[CV] ................ learning_rate=1, n_estimators=700, total= 1.1min\n",
      "[CV] learning_rate=1, n_estimators=700 ...............................\n",
      "[CV] ................ learning_rate=1, n_estimators=700, total= 1.0min\n",
      "[CV] ................ learning_rate=1, n_estimators=700, total= 1.0min\n",
      "[CV] ................ learning_rate=1, n_estimators=700, total=  49.7s\n",
      "[CV] ................ learning_rate=1, n_estimators=700, total=  47.9s\n"
     ]
    },
    {
     "name": "stderr",
     "output_type": "stream",
     "text": [
      "[Parallel(n_jobs=-1)]: Done 150 out of 150 | elapsed: 19.7min finished\n"
     ]
    },
    {
     "data": {
      "text/plain": [
       "GridSearchCV(cv=10, error_score='raise',\n",
       "       estimator=AdaBoostClassifier(algorithm='SAMME.R',\n",
       "          base_estimator=DecisionTreeClassifier(class_weight='balanced', criterion='gini',\n",
       "            max_depth=None, max_features=None, max_leaf_nodes=4,\n",
       "            min_impurity_split=1e-07, min_samples_leaf=1,\n",
       "            min_samples_split=2, min_weight_fraction_leaf=0.0,\n",
       "            presort=False, random_state=None, splitter='best'),\n",
       "          learning_rate=1.0, n_estimators=50, random_state=None),\n",
       "       fit_params={}, iid=True, n_jobs=-1,\n",
       "       param_grid={'n_estimators': [50, 100, 200, 500, 700], 'learning_rate': [0.01, 0.1, 1]},\n",
       "       pre_dispatch='2*n_jobs', refit=True, return_train_score=True,\n",
       "       scoring='roc_auc', verbose=2)"
      ]
     },
     "execution_count": 34,
     "metadata": {},
     "output_type": "execute_result"
    }
   ],
   "source": [
    "complete_search.fit(x_train,y_train)\n",
    "# this might take upto 30-45 miins to finish ( dont be impatient :) . Also dont be alarmed if it finishes early :))"
   ]
  },
  {
   "cell_type": "code",
   "execution_count": 35,
   "metadata": {
    "collapsed": true
   },
   "outputs": [],
   "source": [
    "def report(results, n_top=3):\n",
    "    for i in range(1, n_top + 1):\n",
    "        candidates = np.flatnonzero(results['rank_test_score'] == i)\n",
    "        for candidate in candidates:\n",
    "            print(\"Model with rank: {0}\".format(i))\n",
    "            print(\"Mean validation score: {0:.3f} (std: {1:.5f})\".format(\n",
    "                  results['mean_test_score'][candidate],\n",
    "                  results['std_test_score'][candidate]))\n",
    "            print(\"Parameters: {0}\".format(results['params'][candidate]))\n",
    "            print(\"\")"
   ]
  },
  {
   "cell_type": "code",
   "execution_count": 36,
   "metadata": {},
   "outputs": [
    {
     "name": "stdout",
     "output_type": "stream",
     "text": [
      "Model with rank: 1\n",
      "Mean validation score: 0.929 (std: 0.00551)\n",
      "Parameters: {'learning_rate': 0.1, 'n_estimators': 500}\n",
      "\n",
      "Model with rank: 2\n",
      "Mean validation score: 0.929 (std: 0.00457)\n",
      "Parameters: {'learning_rate': 0.1, 'n_estimators': 200}\n",
      "\n",
      "Model with rank: 3\n",
      "Mean validation score: 0.928 (std: 0.00569)\n",
      "Parameters: {'learning_rate': 0.1, 'n_estimators': 700}\n",
      "\n",
      "Model with rank: 4\n",
      "Mean validation score: 0.925 (std: 0.00522)\n",
      "Parameters: {'learning_rate': 1, 'n_estimators': 50}\n",
      "\n",
      "Model with rank: 5\n",
      "Mean validation score: 0.923 (std: 0.00484)\n",
      "Parameters: {'learning_rate': 0.1, 'n_estimators': 100}\n",
      "\n"
     ]
    }
   ],
   "source": [
    "report(complete_search.cv_results_,5)"
   ]
  },
  {
   "cell_type": "code",
   "execution_count": 37,
   "metadata": {
    "collapsed": true
   },
   "outputs": [],
   "source": [
    "adb_best=AdaBoostClassifier(base_estimator=base_clf,learning_rate=0.1,n_estimators=500)"
   ]
  },
  {
   "cell_type": "code",
   "execution_count": 38,
   "metadata": {},
   "outputs": [
    {
     "data": {
      "text/plain": [
       "AdaBoostClassifier(algorithm='SAMME.R',\n",
       "          base_estimator=DecisionTreeClassifier(class_weight='balanced', criterion='gini',\n",
       "            max_depth=None, max_features=None, max_leaf_nodes=4,\n",
       "            min_impurity_split=1e-07, min_samples_leaf=1,\n",
       "            min_samples_split=2, min_weight_fraction_leaf=0.0,\n",
       "            presort=False, random_state=None, splitter='best'),\n",
       "          learning_rate=0.1, n_estimators=500, random_state=None)"
      ]
     },
     "execution_count": 38,
     "metadata": {},
     "output_type": "execute_result"
    }
   ],
   "source": [
    "adb_best.fit(x_train,y_train)"
   ]
  },
  {
   "cell_type": "code",
   "execution_count": 39,
   "metadata": {
    "collapsed": true
   },
   "outputs": [],
   "source": [
    "p=adb_best.predict_proba(x_test)[:,1]"
   ]
  },
  {
   "cell_type": "code",
   "execution_count": 40,
   "metadata": {},
   "outputs": [
    {
     "data": {
      "text/plain": [
       "array([0, 1])"
      ]
     },
     "execution_count": 40,
     "metadata": {},
     "output_type": "execute_result"
    }
   ],
   "source": [
    "adb_best.classes_"
   ]
  },
  {
   "cell_type": "code",
   "execution_count": 41,
   "metadata": {
    "collapsed": true
   },
   "outputs": [],
   "source": [
    "from sklearn.metrics import roc_auc_score"
   ]
  },
  {
   "cell_type": "code",
   "execution_count": 42,
   "metadata": {},
   "outputs": [
    {
     "data": {
      "text/plain": [
       "0.9241628984186161"
      ]
     },
     "execution_count": 42,
     "metadata": {},
     "output_type": "execute_result"
    }
   ],
   "source": [
    "roc_auc_score(y_test,p)"
   ]
  },
  {
   "cell_type": "code",
   "execution_count": 43,
   "metadata": {
    "collapsed": true
   },
   "outputs": [],
   "source": [
    "param_dist = {\n",
    "              \"max_depth\": [2,3,4,5,6],\n",
    "              \"learning_rate\":[0.01,0.05,0.1,0.3,0.5],\n",
    "    \"min_child_weight\":[4,5,6],\n",
    "              \"subsample\":[i/10.0 for i in range(6,10)],\n",
    " \"colsample_bytree\":[i/10.0 for i in range(6,10)],\n",
    "               \"reg_alpha\":[1e-5, 1e-2, 0.1, 1, 100],\n",
    "              \"gamma\":[i/10.0 for i in range(0,5)],\n",
    "    \"n_estimators\":[100,500,700,1000],\n",
    "    'scale_pos_weight':[2,3,4,5,6,7,8,9]\n",
    "    \n",
    "              }\n"
   ]
  },
  {
   "cell_type": "code",
   "execution_count": 44,
   "metadata": {
    "collapsed": true
   },
   "outputs": [],
   "source": [
    "clf=XGBClassifier(objective='binary:logistic')"
   ]
  },
  {
   "cell_type": "code",
   "execution_count": 45,
   "metadata": {
    "collapsed": true
   },
   "outputs": [],
   "source": [
    "n_iter=10\n",
    "\n",
    "random_search=RandomizedSearchCV(clf,n_jobs=-1,verbose=2,cv=10,n_iter=n_iter,scoring='roc_auc',\n",
    "                                 param_distributions=param_dist)"
   ]
  },
  {
   "cell_type": "code",
   "execution_count": 46,
   "metadata": {},
   "outputs": [
    {
     "name": "stdout",
     "output_type": "stream",
     "text": [
      "Fitting 10 folds for each of 10 candidates, totalling 100 fits\n",
      "[CV] subsample=0.6, scale_pos_weight=4, reg_alpha=0.1, n_estimators=100, min_child_weight=4, max_depth=5, learning_rate=0.1, gamma=0.4, colsample_bytree=0.9 \n",
      "[CV] subsample=0.6, scale_pos_weight=4, reg_alpha=0.1, n_estimators=100, min_child_weight=4, max_depth=5, learning_rate=0.1, gamma=0.4, colsample_bytree=0.9 \n",
      "[CV] subsample=0.6, scale_pos_weight=4, reg_alpha=0.1, n_estimators=100, min_child_weight=4, max_depth=5, learning_rate=0.1, gamma=0.4, colsample_bytree=0.9 \n",
      "[CV] subsample=0.6, scale_pos_weight=4, reg_alpha=0.1, n_estimators=100, min_child_weight=4, max_depth=5, learning_rate=0.1, gamma=0.4, colsample_bytree=0.9 \n",
      "[CV]  subsample=0.6, scale_pos_weight=4, reg_alpha=0.1, n_estimators=100, min_child_weight=4, max_depth=5, learning_rate=0.1, gamma=0.4, colsample_bytree=0.9, total=   8.9s\n",
      "[CV]  subsample=0.6, scale_pos_weight=4, reg_alpha=0.1, n_estimators=100, min_child_weight=4, max_depth=5, learning_rate=0.1, gamma=0.4, colsample_bytree=0.9, total=   9.0s\n",
      "[CV]  subsample=0.6, scale_pos_weight=4, reg_alpha=0.1, n_estimators=100, min_child_weight=4, max_depth=5, learning_rate=0.1, gamma=0.4, colsample_bytree=0.9, total=   8.8s\n",
      "[CV] subsample=0.6, scale_pos_weight=4, reg_alpha=0.1, n_estimators=100, min_child_weight=4, max_depth=5, learning_rate=0.1, gamma=0.4, colsample_bytree=0.9 \n",
      "[CV]  subsample=0.6, scale_pos_weight=4, reg_alpha=0.1, n_estimators=100, min_child_weight=4, max_depth=5, learning_rate=0.1, gamma=0.4, colsample_bytree=0.9, total=   8.9s\n",
      "[CV] subsample=0.6, scale_pos_weight=4, reg_alpha=0.1, n_estimators=100, min_child_weight=4, max_depth=5, learning_rate=0.1, gamma=0.4, colsample_bytree=0.9 \n",
      "[CV] subsample=0.6, scale_pos_weight=4, reg_alpha=0.1, n_estimators=100, min_child_weight=4, max_depth=5, learning_rate=0.1, gamma=0.4, colsample_bytree=0.9 \n",
      "[CV] subsample=0.6, scale_pos_weight=4, reg_alpha=0.1, n_estimators=100, min_child_weight=4, max_depth=5, learning_rate=0.1, gamma=0.4, colsample_bytree=0.9 \n",
      "[CV]  subsample=0.6, scale_pos_weight=4, reg_alpha=0.1, n_estimators=100, min_child_weight=4, max_depth=5, learning_rate=0.1, gamma=0.4, colsample_bytree=0.9, total=   8.4s\n",
      "[CV]  subsample=0.6, scale_pos_weight=4, reg_alpha=0.1, n_estimators=100, min_child_weight=4, max_depth=5, learning_rate=0.1, gamma=0.4, colsample_bytree=0.9, total=   8.5s\n",
      "[CV] subsample=0.6, scale_pos_weight=4, reg_alpha=0.1, n_estimators=100, min_child_weight=4, max_depth=5, learning_rate=0.1, gamma=0.4, colsample_bytree=0.9 \n",
      "[CV]  subsample=0.6, scale_pos_weight=4, reg_alpha=0.1, n_estimators=100, min_child_weight=4, max_depth=5, learning_rate=0.1, gamma=0.4, colsample_bytree=0.9, total=   8.5s\n",
      "[CV] subsample=0.6, scale_pos_weight=4, reg_alpha=0.1, n_estimators=100, min_child_weight=4, max_depth=5, learning_rate=0.1, gamma=0.4, colsample_bytree=0.9 \n",
      "[CV]  subsample=0.6, scale_pos_weight=4, reg_alpha=0.1, n_estimators=100, min_child_weight=4, max_depth=5, learning_rate=0.1, gamma=0.4, colsample_bytree=0.9, total=   8.5s\n",
      "[CV] subsample=0.9, scale_pos_weight=2, reg_alpha=0.01, n_estimators=1000, min_child_weight=4, max_depth=6, learning_rate=0.1, gamma=0.4, colsample_bytree=0.9 \n",
      "[CV] subsample=0.9, scale_pos_weight=2, reg_alpha=0.01, n_estimators=1000, min_child_weight=4, max_depth=6, learning_rate=0.1, gamma=0.4, colsample_bytree=0.9 \n",
      "[CV]  subsample=0.6, scale_pos_weight=4, reg_alpha=0.1, n_estimators=100, min_child_weight=4, max_depth=5, learning_rate=0.1, gamma=0.4, colsample_bytree=0.9, total=   9.1s\n",
      "[CV] subsample=0.9, scale_pos_weight=2, reg_alpha=0.01, n_estimators=1000, min_child_weight=4, max_depth=6, learning_rate=0.1, gamma=0.4, colsample_bytree=0.9 \n",
      "[CV]  subsample=0.6, scale_pos_weight=4, reg_alpha=0.1, n_estimators=100, min_child_weight=4, max_depth=5, learning_rate=0.1, gamma=0.4, colsample_bytree=0.9, total=   9.2s\n",
      "[CV] subsample=0.9, scale_pos_weight=2, reg_alpha=0.01, n_estimators=1000, min_child_weight=4, max_depth=6, learning_rate=0.1, gamma=0.4, colsample_bytree=0.9 \n",
      "[CV]  subsample=0.9, scale_pos_weight=2, reg_alpha=0.01, n_estimators=1000, min_child_weight=4, max_depth=6, learning_rate=0.1, gamma=0.4, colsample_bytree=0.9, total= 1.5min\n",
      "[CV] subsample=0.9, scale_pos_weight=2, reg_alpha=0.01, n_estimators=1000, min_child_weight=4, max_depth=6, learning_rate=0.1, gamma=0.4, colsample_bytree=0.9 \n",
      "[CV]  subsample=0.9, scale_pos_weight=2, reg_alpha=0.01, n_estimators=1000, min_child_weight=4, max_depth=6, learning_rate=0.1, gamma=0.4, colsample_bytree=0.9, total= 1.5min\n",
      "[CV] subsample=0.9, scale_pos_weight=2, reg_alpha=0.01, n_estimators=1000, min_child_weight=4, max_depth=6, learning_rate=0.1, gamma=0.4, colsample_bytree=0.9 \n",
      "[CV]  subsample=0.9, scale_pos_weight=2, reg_alpha=0.01, n_estimators=1000, min_child_weight=4, max_depth=6, learning_rate=0.1, gamma=0.4, colsample_bytree=0.9, total= 1.5min\n",
      "[CV]  subsample=0.9, scale_pos_weight=2, reg_alpha=0.01, n_estimators=1000, min_child_weight=4, max_depth=6, learning_rate=0.1, gamma=0.4, colsample_bytree=0.9, total= 1.5min\n",
      "[CV] subsample=0.9, scale_pos_weight=2, reg_alpha=0.01, n_estimators=1000, min_child_weight=4, max_depth=6, learning_rate=0.1, gamma=0.4, colsample_bytree=0.9 \n",
      "[CV] subsample=0.9, scale_pos_weight=2, reg_alpha=0.01, n_estimators=1000, min_child_weight=4, max_depth=6, learning_rate=0.1, gamma=0.4, colsample_bytree=0.9 \n",
      "[CV]  subsample=0.9, scale_pos_weight=2, reg_alpha=0.01, n_estimators=1000, min_child_weight=4, max_depth=6, learning_rate=0.1, gamma=0.4, colsample_bytree=0.9, total= 1.5min\n",
      "[CV] subsample=0.9, scale_pos_weight=2, reg_alpha=0.01, n_estimators=1000, min_child_weight=4, max_depth=6, learning_rate=0.1, gamma=0.4, colsample_bytree=0.9 \n",
      "[CV]  subsample=0.9, scale_pos_weight=2, reg_alpha=0.01, n_estimators=1000, min_child_weight=4, max_depth=6, learning_rate=0.1, gamma=0.4, colsample_bytree=0.9, total= 1.6min\n",
      "[CV] subsample=0.9, scale_pos_weight=2, reg_alpha=0.01, n_estimators=1000, min_child_weight=4, max_depth=6, learning_rate=0.1, gamma=0.4, colsample_bytree=0.9 \n",
      "[CV]  subsample=0.9, scale_pos_weight=2, reg_alpha=0.01, n_estimators=1000, min_child_weight=4, max_depth=6, learning_rate=0.1, gamma=0.4, colsample_bytree=0.9, total= 1.6min\n",
      "[CV]  subsample=0.9, scale_pos_weight=2, reg_alpha=0.01, n_estimators=1000, min_child_weight=4, max_depth=6, learning_rate=0.1, gamma=0.4, colsample_bytree=0.9, total= 1.6min\n",
      "[CV] subsample=0.7, scale_pos_weight=7, reg_alpha=0.1, n_estimators=700, min_child_weight=6, max_depth=6, learning_rate=0.1, gamma=0.0, colsample_bytree=0.7 \n",
      "[CV] subsample=0.7, scale_pos_weight=7, reg_alpha=0.1, n_estimators=700, min_child_weight=6, max_depth=6, learning_rate=0.1, gamma=0.0, colsample_bytree=0.7 \n",
      "[CV]  subsample=0.7, scale_pos_weight=7, reg_alpha=0.1, n_estimators=700, min_child_weight=6, max_depth=6, learning_rate=0.1, gamma=0.0, colsample_bytree=0.7, total=  53.2s\n",
      "[CV] subsample=0.7, scale_pos_weight=7, reg_alpha=0.1, n_estimators=700, min_child_weight=6, max_depth=6, learning_rate=0.1, gamma=0.0, colsample_bytree=0.7 \n",
      "[CV]  subsample=0.7, scale_pos_weight=7, reg_alpha=0.1, n_estimators=700, min_child_weight=6, max_depth=6, learning_rate=0.1, gamma=0.0, colsample_bytree=0.7, total=  53.6s\n",
      "[CV] subsample=0.7, scale_pos_weight=7, reg_alpha=0.1, n_estimators=700, min_child_weight=6, max_depth=6, learning_rate=0.1, gamma=0.0, colsample_bytree=0.7 \n",
      "[CV]  subsample=0.9, scale_pos_weight=2, reg_alpha=0.01, n_estimators=1000, min_child_weight=4, max_depth=6, learning_rate=0.1, gamma=0.4, colsample_bytree=0.9, total= 1.5min\n",
      "[CV] subsample=0.7, scale_pos_weight=7, reg_alpha=0.1, n_estimators=700, min_child_weight=6, max_depth=6, learning_rate=0.1, gamma=0.0, colsample_bytree=0.7 \n",
      "[CV]  subsample=0.9, scale_pos_weight=2, reg_alpha=0.01, n_estimators=1000, min_child_weight=4, max_depth=6, learning_rate=0.1, gamma=0.4, colsample_bytree=0.9, total= 1.5min\n",
      "[CV] subsample=0.7, scale_pos_weight=7, reg_alpha=0.1, n_estimators=700, min_child_weight=6, max_depth=6, learning_rate=0.1, gamma=0.0, colsample_bytree=0.7 \n",
      "[CV]  subsample=0.7, scale_pos_weight=7, reg_alpha=0.1, n_estimators=700, min_child_weight=6, max_depth=6, learning_rate=0.1, gamma=0.0, colsample_bytree=0.7, total=  57.4s\n",
      "[CV] subsample=0.7, scale_pos_weight=7, reg_alpha=0.1, n_estimators=700, min_child_weight=6, max_depth=6, learning_rate=0.1, gamma=0.0, colsample_bytree=0.7 \n"
     ]
    },
    {
     "name": "stdout",
     "output_type": "stream",
     "text": [
      "[CV]  subsample=0.7, scale_pos_weight=7, reg_alpha=0.1, n_estimators=700, min_child_weight=6, max_depth=6, learning_rate=0.1, gamma=0.0, colsample_bytree=0.7, total=  57.2s\n",
      "[CV] subsample=0.7, scale_pos_weight=7, reg_alpha=0.1, n_estimators=700, min_child_weight=6, max_depth=6, learning_rate=0.1, gamma=0.0, colsample_bytree=0.7 \n",
      "[CV]  subsample=0.7, scale_pos_weight=7, reg_alpha=0.1, n_estimators=700, min_child_weight=6, max_depth=6, learning_rate=0.1, gamma=0.0, colsample_bytree=0.7, total= 1.1min\n",
      "[CV] subsample=0.7, scale_pos_weight=7, reg_alpha=0.1, n_estimators=700, min_child_weight=6, max_depth=6, learning_rate=0.1, gamma=0.0, colsample_bytree=0.7 \n",
      "[CV]  subsample=0.7, scale_pos_weight=7, reg_alpha=0.1, n_estimators=700, min_child_weight=6, max_depth=6, learning_rate=0.1, gamma=0.0, colsample_bytree=0.7, total= 1.1min\n",
      "[CV] subsample=0.7, scale_pos_weight=7, reg_alpha=0.1, n_estimators=700, min_child_weight=6, max_depth=6, learning_rate=0.1, gamma=0.0, colsample_bytree=0.7 \n",
      "[CV]  subsample=0.7, scale_pos_weight=7, reg_alpha=0.1, n_estimators=700, min_child_weight=6, max_depth=6, learning_rate=0.1, gamma=0.0, colsample_bytree=0.7, total= 1.4min\n",
      "[CV] subsample=0.8, scale_pos_weight=7, reg_alpha=1, n_estimators=500, min_child_weight=4, max_depth=2, learning_rate=0.5, gamma=0.3, colsample_bytree=0.7 \n",
      "[CV]  subsample=0.7, scale_pos_weight=7, reg_alpha=0.1, n_estimators=700, min_child_weight=6, max_depth=6, learning_rate=0.1, gamma=0.0, colsample_bytree=0.7, total= 1.4min\n",
      "[CV] subsample=0.8, scale_pos_weight=7, reg_alpha=1, n_estimators=500, min_child_weight=4, max_depth=2, learning_rate=0.5, gamma=0.3, colsample_bytree=0.7 \n",
      "[CV]  subsample=0.8, scale_pos_weight=7, reg_alpha=1, n_estimators=500, min_child_weight=4, max_depth=2, learning_rate=0.5, gamma=0.3, colsample_bytree=0.7, total=  42.3s\n",
      "[CV] subsample=0.8, scale_pos_weight=7, reg_alpha=1, n_estimators=500, min_child_weight=4, max_depth=2, learning_rate=0.5, gamma=0.3, colsample_bytree=0.7 \n",
      "[CV]  subsample=0.8, scale_pos_weight=7, reg_alpha=1, n_estimators=500, min_child_weight=4, max_depth=2, learning_rate=0.5, gamma=0.3, colsample_bytree=0.7, total=  42.1s\n",
      "[CV] subsample=0.8, scale_pos_weight=7, reg_alpha=1, n_estimators=500, min_child_weight=4, max_depth=2, learning_rate=0.5, gamma=0.3, colsample_bytree=0.7 \n",
      "[CV]  subsample=0.7, scale_pos_weight=7, reg_alpha=0.1, n_estimators=700, min_child_weight=6, max_depth=6, learning_rate=0.1, gamma=0.0, colsample_bytree=0.7, total= 2.1min\n",
      "[CV] subsample=0.8, scale_pos_weight=7, reg_alpha=1, n_estimators=500, min_child_weight=4, max_depth=2, learning_rate=0.5, gamma=0.3, colsample_bytree=0.7 \n",
      "[CV]  subsample=0.8, scale_pos_weight=7, reg_alpha=1, n_estimators=500, min_child_weight=4, max_depth=2, learning_rate=0.5, gamma=0.3, colsample_bytree=0.7, total=  40.8s\n",
      "[CV] subsample=0.8, scale_pos_weight=7, reg_alpha=1, n_estimators=500, min_child_weight=4, max_depth=2, learning_rate=0.5, gamma=0.3, colsample_bytree=0.7 \n",
      "[CV]  subsample=0.8, scale_pos_weight=7, reg_alpha=1, n_estimators=500, min_child_weight=4, max_depth=2, learning_rate=0.5, gamma=0.3, colsample_bytree=0.7, total=  40.6s\n",
      "[CV] subsample=0.8, scale_pos_weight=7, reg_alpha=1, n_estimators=500, min_child_weight=4, max_depth=2, learning_rate=0.5, gamma=0.3, colsample_bytree=0.7 \n"
     ]
    },
    {
     "name": "stderr",
     "output_type": "stream",
     "text": [
      "[Parallel(n_jobs=-1)]: Done  33 tasks      | elapsed:  8.5min\n"
     ]
    },
    {
     "name": "stdout",
     "output_type": "stream",
     "text": [
      "[CV]  subsample=0.7, scale_pos_weight=7, reg_alpha=0.1, n_estimators=700, min_child_weight=6, max_depth=6, learning_rate=0.1, gamma=0.0, colsample_bytree=0.7, total= 2.1min\n",
      "[CV] subsample=0.8, scale_pos_weight=7, reg_alpha=1, n_estimators=500, min_child_weight=4, max_depth=2, learning_rate=0.5, gamma=0.3, colsample_bytree=0.7 \n",
      "[CV]  subsample=0.8, scale_pos_weight=7, reg_alpha=1, n_estimators=500, min_child_weight=4, max_depth=2, learning_rate=0.5, gamma=0.3, colsample_bytree=0.7, total=  40.2s\n",
      "[CV] subsample=0.8, scale_pos_weight=7, reg_alpha=1, n_estimators=500, min_child_weight=4, max_depth=2, learning_rate=0.5, gamma=0.3, colsample_bytree=0.7 \n",
      "[CV]  subsample=0.8, scale_pos_weight=7, reg_alpha=1, n_estimators=500, min_child_weight=4, max_depth=2, learning_rate=0.5, gamma=0.3, colsample_bytree=0.7, total=  40.2s\n",
      "[CV] subsample=0.8, scale_pos_weight=7, reg_alpha=1, n_estimators=500, min_child_weight=4, max_depth=2, learning_rate=0.5, gamma=0.3, colsample_bytree=0.7 \n",
      "[CV]  subsample=0.8, scale_pos_weight=7, reg_alpha=1, n_estimators=500, min_child_weight=4, max_depth=2, learning_rate=0.5, gamma=0.3, colsample_bytree=0.7, total=  40.1s\n",
      "[CV] subsample=0.7, scale_pos_weight=7, reg_alpha=1e-05, n_estimators=100, min_child_weight=4, max_depth=4, learning_rate=0.01, gamma=0.3, colsample_bytree=0.6 \n",
      "[CV]  subsample=0.8, scale_pos_weight=7, reg_alpha=1, n_estimators=500, min_child_weight=4, max_depth=2, learning_rate=0.5, gamma=0.3, colsample_bytree=0.7, total=  40.2s\n",
      "[CV] subsample=0.7, scale_pos_weight=7, reg_alpha=1e-05, n_estimators=100, min_child_weight=4, max_depth=4, learning_rate=0.01, gamma=0.3, colsample_bytree=0.6 \n",
      "[CV]  subsample=0.7, scale_pos_weight=7, reg_alpha=1e-05, n_estimators=100, min_child_weight=4, max_depth=4, learning_rate=0.01, gamma=0.3, colsample_bytree=0.6, total=  16.9s\n",
      "[CV] subsample=0.7, scale_pos_weight=7, reg_alpha=1e-05, n_estimators=100, min_child_weight=4, max_depth=4, learning_rate=0.01, gamma=0.3, colsample_bytree=0.6 \n",
      "[CV]  subsample=0.7, scale_pos_weight=7, reg_alpha=1e-05, n_estimators=100, min_child_weight=4, max_depth=4, learning_rate=0.01, gamma=0.3, colsample_bytree=0.6, total=  16.7s\n",
      "[CV] subsample=0.7, scale_pos_weight=7, reg_alpha=1e-05, n_estimators=100, min_child_weight=4, max_depth=4, learning_rate=0.01, gamma=0.3, colsample_bytree=0.6 \n",
      "[CV]  subsample=0.7, scale_pos_weight=7, reg_alpha=1e-05, n_estimators=100, min_child_weight=4, max_depth=4, learning_rate=0.01, gamma=0.3, colsample_bytree=0.6, total=  12.2s\n",
      "[CV] subsample=0.7, scale_pos_weight=7, reg_alpha=1e-05, n_estimators=100, min_child_weight=4, max_depth=4, learning_rate=0.01, gamma=0.3, colsample_bytree=0.6 \n",
      "[CV]  subsample=0.7, scale_pos_weight=7, reg_alpha=1e-05, n_estimators=100, min_child_weight=4, max_depth=4, learning_rate=0.01, gamma=0.3, colsample_bytree=0.6, total=  11.9s\n",
      "[CV] subsample=0.7, scale_pos_weight=7, reg_alpha=1e-05, n_estimators=100, min_child_weight=4, max_depth=4, learning_rate=0.01, gamma=0.3, colsample_bytree=0.6 \n",
      "[CV]  subsample=0.8, scale_pos_weight=7, reg_alpha=1, n_estimators=500, min_child_weight=4, max_depth=2, learning_rate=0.5, gamma=0.3, colsample_bytree=0.7, total=  34.2s\n",
      "[CV] subsample=0.7, scale_pos_weight=7, reg_alpha=1e-05, n_estimators=100, min_child_weight=4, max_depth=4, learning_rate=0.01, gamma=0.3, colsample_bytree=0.6 \n",
      "[CV]  subsample=0.8, scale_pos_weight=7, reg_alpha=1, n_estimators=500, min_child_weight=4, max_depth=2, learning_rate=0.5, gamma=0.3, colsample_bytree=0.7, total=  33.9s\n",
      "[CV] subsample=0.7, scale_pos_weight=7, reg_alpha=1e-05, n_estimators=100, min_child_weight=4, max_depth=4, learning_rate=0.01, gamma=0.3, colsample_bytree=0.6 \n",
      "[CV]  subsample=0.7, scale_pos_weight=7, reg_alpha=1e-05, n_estimators=100, min_child_weight=4, max_depth=4, learning_rate=0.01, gamma=0.3, colsample_bytree=0.6, total=   5.0s\n",
      "[CV] subsample=0.7, scale_pos_weight=7, reg_alpha=1e-05, n_estimators=100, min_child_weight=4, max_depth=4, learning_rate=0.01, gamma=0.3, colsample_bytree=0.6 \n",
      "[CV]  subsample=0.7, scale_pos_weight=7, reg_alpha=1e-05, n_estimators=100, min_child_weight=4, max_depth=4, learning_rate=0.01, gamma=0.3, colsample_bytree=0.6, total=   4.8s\n",
      "[CV] subsample=0.7, scale_pos_weight=7, reg_alpha=1e-05, n_estimators=100, min_child_weight=4, max_depth=4, learning_rate=0.01, gamma=0.3, colsample_bytree=0.6 \n",
      "[CV]  subsample=0.7, scale_pos_weight=7, reg_alpha=1e-05, n_estimators=100, min_child_weight=4, max_depth=4, learning_rate=0.01, gamma=0.3, colsample_bytree=0.6, total=   4.9s\n",
      "[CV]  subsample=0.7, scale_pos_weight=7, reg_alpha=1e-05, n_estimators=100, min_child_weight=4, max_depth=4, learning_rate=0.01, gamma=0.3, colsample_bytree=0.6, total=   4.9s\n",
      "[CV] subsample=0.8, scale_pos_weight=4, reg_alpha=1e-05, n_estimators=1000, min_child_weight=5, max_depth=3, learning_rate=0.5, gamma=0.3, colsample_bytree=0.9 \n",
      "[CV] subsample=0.8, scale_pos_weight=4, reg_alpha=1e-05, n_estimators=1000, min_child_weight=5, max_depth=3, learning_rate=0.5, gamma=0.3, colsample_bytree=0.9 \n",
      "[CV]  subsample=0.7, scale_pos_weight=7, reg_alpha=1e-05, n_estimators=100, min_child_weight=4, max_depth=4, learning_rate=0.01, gamma=0.3, colsample_bytree=0.6, total=   4.9s\n",
      "[CV] subsample=0.8, scale_pos_weight=4, reg_alpha=1e-05, n_estimators=1000, min_child_weight=5, max_depth=3, learning_rate=0.5, gamma=0.3, colsample_bytree=0.9 \n",
      "[CV]  subsample=0.7, scale_pos_weight=7, reg_alpha=1e-05, n_estimators=100, min_child_weight=4, max_depth=4, learning_rate=0.01, gamma=0.3, colsample_bytree=0.6, total=   4.9s\n",
      "[CV] subsample=0.8, scale_pos_weight=4, reg_alpha=1e-05, n_estimators=1000, min_child_weight=5, max_depth=3, learning_rate=0.5, gamma=0.3, colsample_bytree=0.9 \n",
      "[CV]  subsample=0.8, scale_pos_weight=4, reg_alpha=1e-05, n_estimators=1000, min_child_weight=5, max_depth=3, learning_rate=0.5, gamma=0.3, colsample_bytree=0.9, total=  52.6s\n",
      "[CV]  subsample=0.8, scale_pos_weight=4, reg_alpha=1e-05, n_estimators=1000, min_child_weight=5, max_depth=3, learning_rate=0.5, gamma=0.3, colsample_bytree=0.9, total=  52.7s\n",
      "[CV] subsample=0.8, scale_pos_weight=4, reg_alpha=1e-05, n_estimators=1000, min_child_weight=5, max_depth=3, learning_rate=0.5, gamma=0.3, colsample_bytree=0.9 \n",
      "[CV] subsample=0.8, scale_pos_weight=4, reg_alpha=1e-05, n_estimators=1000, min_child_weight=5, max_depth=3, learning_rate=0.5, gamma=0.3, colsample_bytree=0.9 \n",
      "[CV]  subsample=0.8, scale_pos_weight=4, reg_alpha=1e-05, n_estimators=1000, min_child_weight=5, max_depth=3, learning_rate=0.5, gamma=0.3, colsample_bytree=0.9, total=  53.0s\n",
      "[CV] subsample=0.8, scale_pos_weight=4, reg_alpha=1e-05, n_estimators=1000, min_child_weight=5, max_depth=3, learning_rate=0.5, gamma=0.3, colsample_bytree=0.9 \n",
      "[CV]  subsample=0.8, scale_pos_weight=4, reg_alpha=1e-05, n_estimators=1000, min_child_weight=5, max_depth=3, learning_rate=0.5, gamma=0.3, colsample_bytree=0.9, total=  53.2s\n",
      "[CV] subsample=0.8, scale_pos_weight=4, reg_alpha=1e-05, n_estimators=1000, min_child_weight=5, max_depth=3, learning_rate=0.5, gamma=0.3, colsample_bytree=0.9 \n",
      "[CV]  subsample=0.8, scale_pos_weight=4, reg_alpha=1e-05, n_estimators=1000, min_child_weight=5, max_depth=3, learning_rate=0.5, gamma=0.3, colsample_bytree=0.9, total=  56.2s\n",
      "[CV] subsample=0.8, scale_pos_weight=4, reg_alpha=1e-05, n_estimators=1000, min_child_weight=5, max_depth=3, learning_rate=0.5, gamma=0.3, colsample_bytree=0.9 \n",
      "[CV]  subsample=0.8, scale_pos_weight=4, reg_alpha=1e-05, n_estimators=1000, min_child_weight=5, max_depth=3, learning_rate=0.5, gamma=0.3, colsample_bytree=0.9, total=  56.6s\n",
      "[CV] subsample=0.8, scale_pos_weight=4, reg_alpha=1e-05, n_estimators=1000, min_child_weight=5, max_depth=3, learning_rate=0.5, gamma=0.3, colsample_bytree=0.9 \n",
      "[CV]  subsample=0.8, scale_pos_weight=4, reg_alpha=1e-05, n_estimators=1000, min_child_weight=5, max_depth=3, learning_rate=0.5, gamma=0.3, colsample_bytree=0.9, total=  55.8s\n",
      "[CV] subsample=0.8, scale_pos_weight=8, reg_alpha=0.01, n_estimators=100, min_child_weight=6, max_depth=6, learning_rate=0.05, gamma=0.2, colsample_bytree=0.6 \n",
      "[CV]  subsample=0.8, scale_pos_weight=4, reg_alpha=1e-05, n_estimators=1000, min_child_weight=5, max_depth=3, learning_rate=0.5, gamma=0.3, colsample_bytree=0.9, total=  56.1s\n"
     ]
    },
    {
     "name": "stdout",
     "output_type": "stream",
     "text": [
      "[CV] subsample=0.8, scale_pos_weight=8, reg_alpha=0.01, n_estimators=100, min_child_weight=6, max_depth=6, learning_rate=0.05, gamma=0.2, colsample_bytree=0.6 \n",
      "[CV]  subsample=0.8, scale_pos_weight=8, reg_alpha=0.01, n_estimators=100, min_child_weight=6, max_depth=6, learning_rate=0.05, gamma=0.2, colsample_bytree=0.6, total=   7.3s\n",
      "[CV] subsample=0.8, scale_pos_weight=8, reg_alpha=0.01, n_estimators=100, min_child_weight=6, max_depth=6, learning_rate=0.05, gamma=0.2, colsample_bytree=0.6 \n",
      "[CV]  subsample=0.8, scale_pos_weight=8, reg_alpha=0.01, n_estimators=100, min_child_weight=6, max_depth=6, learning_rate=0.05, gamma=0.2, colsample_bytree=0.6, total=   7.2s\n",
      "[CV] subsample=0.8, scale_pos_weight=8, reg_alpha=0.01, n_estimators=100, min_child_weight=6, max_depth=6, learning_rate=0.05, gamma=0.2, colsample_bytree=0.6 \n",
      "[CV]  subsample=0.8, scale_pos_weight=8, reg_alpha=0.01, n_estimators=100, min_child_weight=6, max_depth=6, learning_rate=0.05, gamma=0.2, colsample_bytree=0.6, total=   7.2s\n",
      "[CV] subsample=0.8, scale_pos_weight=8, reg_alpha=0.01, n_estimators=100, min_child_weight=6, max_depth=6, learning_rate=0.05, gamma=0.2, colsample_bytree=0.6 \n",
      "[CV]  subsample=0.8, scale_pos_weight=8, reg_alpha=0.01, n_estimators=100, min_child_weight=6, max_depth=6, learning_rate=0.05, gamma=0.2, colsample_bytree=0.6, total=   7.2s\n",
      "[CV] subsample=0.8, scale_pos_weight=8, reg_alpha=0.01, n_estimators=100, min_child_weight=6, max_depth=6, learning_rate=0.05, gamma=0.2, colsample_bytree=0.6 \n",
      "[CV]  subsample=0.8, scale_pos_weight=8, reg_alpha=0.01, n_estimators=100, min_child_weight=6, max_depth=6, learning_rate=0.05, gamma=0.2, colsample_bytree=0.6, total=   8.0s\n",
      "[CV] subsample=0.8, scale_pos_weight=8, reg_alpha=0.01, n_estimators=100, min_child_weight=6, max_depth=6, learning_rate=0.05, gamma=0.2, colsample_bytree=0.6 \n",
      "[CV]  subsample=0.8, scale_pos_weight=8, reg_alpha=0.01, n_estimators=100, min_child_weight=6, max_depth=6, learning_rate=0.05, gamma=0.2, colsample_bytree=0.6, total=   8.1s\n",
      "[CV] subsample=0.8, scale_pos_weight=8, reg_alpha=0.01, n_estimators=100, min_child_weight=6, max_depth=6, learning_rate=0.05, gamma=0.2, colsample_bytree=0.6 \n",
      "[CV]  subsample=0.8, scale_pos_weight=8, reg_alpha=0.01, n_estimators=100, min_child_weight=6, max_depth=6, learning_rate=0.05, gamma=0.2, colsample_bytree=0.6, total=   7.7s\n",
      "[CV] subsample=0.8, scale_pos_weight=8, reg_alpha=0.01, n_estimators=100, min_child_weight=6, max_depth=6, learning_rate=0.05, gamma=0.2, colsample_bytree=0.6 \n",
      "[CV]  subsample=0.8, scale_pos_weight=8, reg_alpha=0.01, n_estimators=100, min_child_weight=6, max_depth=6, learning_rate=0.05, gamma=0.2, colsample_bytree=0.6, total=   7.7s\n",
      "[CV] subsample=0.8, scale_pos_weight=8, reg_alpha=0.01, n_estimators=100, min_child_weight=6, max_depth=6, learning_rate=0.05, gamma=0.2, colsample_bytree=0.6 \n",
      "[CV]  subsample=0.8, scale_pos_weight=8, reg_alpha=0.01, n_estimators=100, min_child_weight=6, max_depth=6, learning_rate=0.05, gamma=0.2, colsample_bytree=0.6, total=   7.8s\n",
      "[CV] subsample=0.6, scale_pos_weight=4, reg_alpha=1, n_estimators=700, min_child_weight=4, max_depth=4, learning_rate=0.01, gamma=0.1, colsample_bytree=0.7 \n",
      "[CV]  subsample=0.8, scale_pos_weight=8, reg_alpha=0.01, n_estimators=100, min_child_weight=6, max_depth=6, learning_rate=0.05, gamma=0.2, colsample_bytree=0.6, total=   7.6s\n",
      "[CV] subsample=0.6, scale_pos_weight=4, reg_alpha=1, n_estimators=700, min_child_weight=4, max_depth=4, learning_rate=0.01, gamma=0.1, colsample_bytree=0.7 \n",
      "[CV]  subsample=0.8, scale_pos_weight=4, reg_alpha=1e-05, n_estimators=1000, min_child_weight=5, max_depth=3, learning_rate=0.5, gamma=0.3, colsample_bytree=0.9, total=  52.8s\n",
      "[CV] subsample=0.6, scale_pos_weight=4, reg_alpha=1, n_estimators=700, min_child_weight=4, max_depth=4, learning_rate=0.01, gamma=0.1, colsample_bytree=0.7 \n",
      "[CV]  subsample=0.8, scale_pos_weight=4, reg_alpha=1e-05, n_estimators=1000, min_child_weight=5, max_depth=3, learning_rate=0.5, gamma=0.3, colsample_bytree=0.9, total=  52.5s\n",
      "[CV] subsample=0.6, scale_pos_weight=4, reg_alpha=1, n_estimators=700, min_child_weight=4, max_depth=4, learning_rate=0.01, gamma=0.1, colsample_bytree=0.7 \n",
      "[CV]  subsample=0.6, scale_pos_weight=4, reg_alpha=1, n_estimators=700, min_child_weight=4, max_depth=4, learning_rate=0.01, gamma=0.1, colsample_bytree=0.7, total=  41.2s\n",
      "[CV] subsample=0.6, scale_pos_weight=4, reg_alpha=1, n_estimators=700, min_child_weight=4, max_depth=4, learning_rate=0.01, gamma=0.1, colsample_bytree=0.7 \n",
      "[CV]  subsample=0.6, scale_pos_weight=4, reg_alpha=1, n_estimators=700, min_child_weight=4, max_depth=4, learning_rate=0.01, gamma=0.1, colsample_bytree=0.7, total=  41.2s\n",
      "[CV] subsample=0.6, scale_pos_weight=4, reg_alpha=1, n_estimators=700, min_child_weight=4, max_depth=4, learning_rate=0.01, gamma=0.1, colsample_bytree=0.7 \n",
      "[CV]  subsample=0.6, scale_pos_weight=4, reg_alpha=1, n_estimators=700, min_child_weight=4, max_depth=4, learning_rate=0.01, gamma=0.1, colsample_bytree=0.7, total=  43.7s\n",
      "[CV] subsample=0.6, scale_pos_weight=4, reg_alpha=1, n_estimators=700, min_child_weight=4, max_depth=4, learning_rate=0.01, gamma=0.1, colsample_bytree=0.7 \n",
      "[CV]  subsample=0.6, scale_pos_weight=4, reg_alpha=1, n_estimators=700, min_child_weight=4, max_depth=4, learning_rate=0.01, gamma=0.1, colsample_bytree=0.7, total=  43.9s\n",
      "[CV] subsample=0.6, scale_pos_weight=4, reg_alpha=1, n_estimators=700, min_child_weight=4, max_depth=4, learning_rate=0.01, gamma=0.1, colsample_bytree=0.7 \n",
      "[CV]  subsample=0.6, scale_pos_weight=4, reg_alpha=1, n_estimators=700, min_child_weight=4, max_depth=4, learning_rate=0.01, gamma=0.1, colsample_bytree=0.7, total=  43.9s\n",
      "[CV] subsample=0.6, scale_pos_weight=4, reg_alpha=1, n_estimators=700, min_child_weight=4, max_depth=4, learning_rate=0.01, gamma=0.1, colsample_bytree=0.7 \n",
      "[CV]  subsample=0.6, scale_pos_weight=4, reg_alpha=1, n_estimators=700, min_child_weight=4, max_depth=4, learning_rate=0.01, gamma=0.1, colsample_bytree=0.7, total=  44.0s\n",
      "[CV] subsample=0.6, scale_pos_weight=4, reg_alpha=1, n_estimators=700, min_child_weight=4, max_depth=4, learning_rate=0.01, gamma=0.1, colsample_bytree=0.7 \n",
      "[CV]  subsample=0.6, scale_pos_weight=4, reg_alpha=1, n_estimators=700, min_child_weight=4, max_depth=4, learning_rate=0.01, gamma=0.1, colsample_bytree=0.7, total=  40.4s\n",
      "[CV] subsample=0.8, scale_pos_weight=3, reg_alpha=1e-05, n_estimators=700, min_child_weight=4, max_depth=4, learning_rate=0.05, gamma=0.3, colsample_bytree=0.8 \n",
      "[CV]  subsample=0.6, scale_pos_weight=4, reg_alpha=1, n_estimators=700, min_child_weight=4, max_depth=4, learning_rate=0.01, gamma=0.1, colsample_bytree=0.7, total=  40.4s\n",
      "[CV] subsample=0.8, scale_pos_weight=3, reg_alpha=1e-05, n_estimators=700, min_child_weight=4, max_depth=4, learning_rate=0.05, gamma=0.3, colsample_bytree=0.8 \n",
      "[CV]  subsample=0.6, scale_pos_weight=4, reg_alpha=1, n_estimators=700, min_child_weight=4, max_depth=4, learning_rate=0.01, gamma=0.1, colsample_bytree=0.7, total=  37.9s\n",
      "[CV] subsample=0.8, scale_pos_weight=3, reg_alpha=1e-05, n_estimators=700, min_child_weight=4, max_depth=4, learning_rate=0.05, gamma=0.3, colsample_bytree=0.8 \n",
      "[CV]  subsample=0.6, scale_pos_weight=4, reg_alpha=1, n_estimators=700, min_child_weight=4, max_depth=4, learning_rate=0.01, gamma=0.1, colsample_bytree=0.7, total=  37.6s\n",
      "[CV] subsample=0.8, scale_pos_weight=3, reg_alpha=1e-05, n_estimators=700, min_child_weight=4, max_depth=4, learning_rate=0.05, gamma=0.3, colsample_bytree=0.8 \n",
      "[CV]  subsample=0.8, scale_pos_weight=3, reg_alpha=1e-05, n_estimators=700, min_child_weight=4, max_depth=4, learning_rate=0.05, gamma=0.3, colsample_bytree=0.8, total=  39.6s\n",
      "[CV]  subsample=0.8, scale_pos_weight=3, reg_alpha=1e-05, n_estimators=700, min_child_weight=4, max_depth=4, learning_rate=0.05, gamma=0.3, colsample_bytree=0.8, total=  39.3s\n",
      "[CV] subsample=0.8, scale_pos_weight=3, reg_alpha=1e-05, n_estimators=700, min_child_weight=4, max_depth=4, learning_rate=0.05, gamma=0.3, colsample_bytree=0.8 \n",
      "[CV] subsample=0.8, scale_pos_weight=3, reg_alpha=1e-05, n_estimators=700, min_child_weight=4, max_depth=4, learning_rate=0.05, gamma=0.3, colsample_bytree=0.8 \n",
      "[CV]  subsample=0.8, scale_pos_weight=3, reg_alpha=1e-05, n_estimators=700, min_child_weight=4, max_depth=4, learning_rate=0.05, gamma=0.3, colsample_bytree=0.8, total=  39.4s\n"
     ]
    },
    {
     "name": "stdout",
     "output_type": "stream",
     "text": [
      "[CV] subsample=0.8, scale_pos_weight=3, reg_alpha=1e-05, n_estimators=700, min_child_weight=4, max_depth=4, learning_rate=0.05, gamma=0.3, colsample_bytree=0.8 \n",
      "[CV]  subsample=0.8, scale_pos_weight=3, reg_alpha=1e-05, n_estimators=700, min_child_weight=4, max_depth=4, learning_rate=0.05, gamma=0.3, colsample_bytree=0.8, total=  39.2s\n",
      "[CV] subsample=0.8, scale_pos_weight=3, reg_alpha=1e-05, n_estimators=700, min_child_weight=4, max_depth=4, learning_rate=0.05, gamma=0.3, colsample_bytree=0.8 \n",
      "[CV]  subsample=0.8, scale_pos_weight=3, reg_alpha=1e-05, n_estimators=700, min_child_weight=4, max_depth=4, learning_rate=0.05, gamma=0.3, colsample_bytree=0.8, total=  39.9s\n",
      "[CV] subsample=0.8, scale_pos_weight=3, reg_alpha=1e-05, n_estimators=700, min_child_weight=4, max_depth=4, learning_rate=0.05, gamma=0.3, colsample_bytree=0.8 \n",
      "[CV]  subsample=0.8, scale_pos_weight=3, reg_alpha=1e-05, n_estimators=700, min_child_weight=4, max_depth=4, learning_rate=0.05, gamma=0.3, colsample_bytree=0.8, total=  40.2s\n",
      "[CV] subsample=0.8, scale_pos_weight=3, reg_alpha=1e-05, n_estimators=700, min_child_weight=4, max_depth=4, learning_rate=0.05, gamma=0.3, colsample_bytree=0.8 \n",
      "[CV]  subsample=0.8, scale_pos_weight=3, reg_alpha=1e-05, n_estimators=700, min_child_weight=4, max_depth=4, learning_rate=0.05, gamma=0.3, colsample_bytree=0.8, total=  40.2s\n",
      "[CV] subsample=0.9, scale_pos_weight=4, reg_alpha=1, n_estimators=1000, min_child_weight=4, max_depth=3, learning_rate=0.3, gamma=0.1, colsample_bytree=0.6 \n",
      "[CV]  subsample=0.8, scale_pos_weight=3, reg_alpha=1e-05, n_estimators=700, min_child_weight=4, max_depth=4, learning_rate=0.05, gamma=0.3, colsample_bytree=0.8, total=  40.1s\n",
      "[CV] subsample=0.9, scale_pos_weight=4, reg_alpha=1, n_estimators=1000, min_child_weight=4, max_depth=3, learning_rate=0.3, gamma=0.1, colsample_bytree=0.6 \n",
      "[CV]  subsample=0.8, scale_pos_weight=3, reg_alpha=1e-05, n_estimators=700, min_child_weight=4, max_depth=4, learning_rate=0.05, gamma=0.3, colsample_bytree=0.8, total=  39.4s\n",
      "[CV] subsample=0.9, scale_pos_weight=4, reg_alpha=1, n_estimators=1000, min_child_weight=4, max_depth=3, learning_rate=0.3, gamma=0.1, colsample_bytree=0.6 \n",
      "[CV]  subsample=0.8, scale_pos_weight=3, reg_alpha=1e-05, n_estimators=700, min_child_weight=4, max_depth=4, learning_rate=0.05, gamma=0.3, colsample_bytree=0.8, total=  39.4s\n",
      "[CV] subsample=0.9, scale_pos_weight=4, reg_alpha=1, n_estimators=1000, min_child_weight=4, max_depth=3, learning_rate=0.3, gamma=0.1, colsample_bytree=0.6 \n",
      "[CV]  subsample=0.9, scale_pos_weight=4, reg_alpha=1, n_estimators=1000, min_child_weight=4, max_depth=3, learning_rate=0.3, gamma=0.1, colsample_bytree=0.6, total=  34.2s\n",
      "[CV]  subsample=0.9, scale_pos_weight=4, reg_alpha=1, n_estimators=1000, min_child_weight=4, max_depth=3, learning_rate=0.3, gamma=0.1, colsample_bytree=0.6, total=  33.9s\n",
      "[CV] subsample=0.9, scale_pos_weight=4, reg_alpha=1, n_estimators=1000, min_child_weight=4, max_depth=3, learning_rate=0.3, gamma=0.1, colsample_bytree=0.6 \n",
      "[CV] subsample=0.9, scale_pos_weight=4, reg_alpha=1, n_estimators=1000, min_child_weight=4, max_depth=3, learning_rate=0.3, gamma=0.1, colsample_bytree=0.6 \n",
      "[CV]  subsample=0.9, scale_pos_weight=4, reg_alpha=1, n_estimators=1000, min_child_weight=4, max_depth=3, learning_rate=0.3, gamma=0.1, colsample_bytree=0.6, total=  34.5s\n",
      "[CV]  subsample=0.9, scale_pos_weight=4, reg_alpha=1, n_estimators=1000, min_child_weight=4, max_depth=3, learning_rate=0.3, gamma=0.1, colsample_bytree=0.6, total=  34.7s\n",
      "[CV] subsample=0.9, scale_pos_weight=4, reg_alpha=1, n_estimators=1000, min_child_weight=4, max_depth=3, learning_rate=0.3, gamma=0.1, colsample_bytree=0.6 \n",
      "[CV] subsample=0.9, scale_pos_weight=4, reg_alpha=1, n_estimators=1000, min_child_weight=4, max_depth=3, learning_rate=0.3, gamma=0.1, colsample_bytree=0.6 \n",
      "[CV]  subsample=0.9, scale_pos_weight=4, reg_alpha=1, n_estimators=1000, min_child_weight=4, max_depth=3, learning_rate=0.3, gamma=0.1, colsample_bytree=0.6, total=  33.7s\n",
      "[CV] subsample=0.9, scale_pos_weight=4, reg_alpha=1, n_estimators=1000, min_child_weight=4, max_depth=3, learning_rate=0.3, gamma=0.1, colsample_bytree=0.6 \n",
      "[CV]  subsample=0.9, scale_pos_weight=4, reg_alpha=1, n_estimators=1000, min_child_weight=4, max_depth=3, learning_rate=0.3, gamma=0.1, colsample_bytree=0.6, total=  33.9s\n",
      "[CV] subsample=0.9, scale_pos_weight=4, reg_alpha=1, n_estimators=1000, min_child_weight=4, max_depth=3, learning_rate=0.3, gamma=0.1, colsample_bytree=0.6 \n",
      "[CV]  subsample=0.9, scale_pos_weight=4, reg_alpha=1, n_estimators=1000, min_child_weight=4, max_depth=3, learning_rate=0.3, gamma=0.1, colsample_bytree=0.6, total=  34.1s\n",
      "[CV]  subsample=0.9, scale_pos_weight=4, reg_alpha=1, n_estimators=1000, min_child_weight=4, max_depth=3, learning_rate=0.3, gamma=0.1, colsample_bytree=0.6, total=  34.5s\n",
      "[CV]  subsample=0.9, scale_pos_weight=4, reg_alpha=1, n_estimators=1000, min_child_weight=4, max_depth=3, learning_rate=0.3, gamma=0.1, colsample_bytree=0.6, total=  27.9s\n",
      "[CV]  subsample=0.9, scale_pos_weight=4, reg_alpha=1, n_estimators=1000, min_child_weight=4, max_depth=3, learning_rate=0.3, gamma=0.1, colsample_bytree=0.6, total=  28.0s\n"
     ]
    },
    {
     "name": "stderr",
     "output_type": "stream",
     "text": [
      "[Parallel(n_jobs=-1)]: Done 100 out of 100 | elapsed: 17.6min finished\n"
     ]
    },
    {
     "data": {
      "text/plain": [
       "RandomizedSearchCV(cv=10, error_score='raise',\n",
       "          estimator=XGBClassifier(base_score=0.5, colsample_bylevel=1, colsample_bytree=1,\n",
       "       gamma=0, learning_rate=0.1, max_delta_step=0, max_depth=3,\n",
       "       min_child_weight=1, missing=None, n_estimators=100, nthread=-1,\n",
       "       objective='binary:logistic', reg_alpha=0, reg_lambda=1,\n",
       "       scale_pos_weight=1, seed=0, silent=True, subsample=1),\n",
       "          fit_params={}, iid=True, n_iter=10, n_jobs=-1,\n",
       "          param_distributions={'max_depth': [2, 3, 4, 5, 6], 'learning_rate': [0.01, 0.05, 0.1, 0.3, 0.5], 'min_child_weight': [4, 5, 6], 'subsample': [0.6, 0.7, 0.8, 0.9], 'colsample_bytree': [0.6, 0.7, 0.8, 0.9], 'reg_alpha': [1e-05, 0.01, 0.1, 1, 100], 'gamma': [0.0, 0.1, 0.2, 0.3, 0.4], 'n_estimators': [100, 500, 700, 1000], 'scale_pos_weight': [2, 3, 4, 5, 6, 7, 8, 9]},\n",
       "          pre_dispatch='2*n_jobs', random_state=None, refit=True,\n",
       "          return_train_score=True, scoring='roc_auc', verbose=2)"
      ]
     },
     "execution_count": 46,
     "metadata": {},
     "output_type": "execute_result"
    }
   ],
   "source": [
    "random_search.fit(x_train,y_train)"
   ]
  },
  {
   "cell_type": "code",
   "execution_count": 47,
   "metadata": {},
   "outputs": [
    {
     "name": "stdout",
     "output_type": "stream",
     "text": [
      "Model with rank: 1\n",
      "Mean validation score: 0.930 (std: 0.00496)\n",
      "Parameters: {'subsample': 0.8, 'scale_pos_weight': 3, 'reg_alpha': 1e-05, 'n_estimators': 700, 'min_child_weight': 4, 'max_depth': 4, 'learning_rate': 0.05, 'gamma': 0.3, 'colsample_bytree': 0.8}\n",
      "\n",
      "Model with rank: 2\n",
      "Mean validation score: 0.928 (std: 0.00493)\n",
      "Parameters: {'subsample': 0.6, 'scale_pos_weight': 4, 'reg_alpha': 0.1, 'n_estimators': 100, 'min_child_weight': 4, 'max_depth': 5, 'learning_rate': 0.1, 'gamma': 0.4, 'colsample_bytree': 0.9}\n",
      "\n",
      "Model with rank: 3\n",
      "Mean validation score: 0.926 (std: 0.00439)\n",
      "Parameters: {'subsample': 0.8, 'scale_pos_weight': 8, 'reg_alpha': 0.01, 'n_estimators': 100, 'min_child_weight': 6, 'max_depth': 6, 'learning_rate': 0.05, 'gamma': 0.2, 'colsample_bytree': 0.6}\n",
      "\n",
      "Model with rank: 4\n",
      "Mean validation score: 0.925 (std: 0.00601)\n",
      "Parameters: {'subsample': 0.8, 'scale_pos_weight': 7, 'reg_alpha': 1, 'n_estimators': 500, 'min_child_weight': 4, 'max_depth': 2, 'learning_rate': 0.5, 'gamma': 0.3, 'colsample_bytree': 0.7}\n",
      "\n",
      "Model with rank: 5\n",
      "Mean validation score: 0.923 (std: 0.00465)\n",
      "Parameters: {'subsample': 0.6, 'scale_pos_weight': 4, 'reg_alpha': 1, 'n_estimators': 700, 'min_child_weight': 4, 'max_depth': 4, 'learning_rate': 0.01, 'gamma': 0.1, 'colsample_bytree': 0.7}\n",
      "\n"
     ]
    }
   ],
   "source": [
    "report(random_search.cv_results_,5)"
   ]
  },
  {
   "cell_type": "code",
   "execution_count": 48,
   "metadata": {
    "collapsed": true
   },
   "outputs": [],
   "source": [
    "xgb_best=XGBClassifier(subsample=0.8,scale_pos_weight=3,reg_alpha=1e-05,n_estimators=700,min_child_weight=4,\n",
    "                       max_depth=4,learning_rate=0.05,gamma=0.3,colsample_bytree=0.8\n",
    "                      )"
   ]
  },
  {
   "cell_type": "code",
   "execution_count": 49,
   "metadata": {},
   "outputs": [
    {
     "data": {
      "text/plain": [
       "XGBClassifier(base_score=0.5, colsample_bylevel=1, colsample_bytree=0.8,\n",
       "       gamma=0.3, learning_rate=0.05, max_delta_step=0, max_depth=4,\n",
       "       min_child_weight=4, missing=None, n_estimators=700, nthread=-1,\n",
       "       objective='binary:logistic', reg_alpha=1e-05, reg_lambda=1,\n",
       "       scale_pos_weight=3, seed=0, silent=True, subsample=0.8)"
      ]
     },
     "execution_count": 49,
     "metadata": {},
     "output_type": "execute_result"
    }
   ],
   "source": [
    "xgb_best.fit(x_train,y_train)"
   ]
  },
  {
   "cell_type": "code",
   "execution_count": 50,
   "metadata": {
    "collapsed": true
   },
   "outputs": [],
   "source": [
    "p=xgb_best.predict_proba(x_test)[:,1]"
   ]
  },
  {
   "cell_type": "code",
   "execution_count": 51,
   "metadata": {},
   "outputs": [
    {
     "data": {
      "text/plain": [
       "0.92297468403048055"
      ]
     },
     "execution_count": 51,
     "metadata": {},
     "output_type": "execute_result"
    }
   ],
   "source": [
    "roc_auc_score(y_test,p)"
   ]
  },
  {
   "cell_type": "code",
   "execution_count": null,
   "metadata": {
    "collapsed": true
   },
   "outputs": [],
   "source": []
  }
 ],
 "metadata": {
  "kernelspec": {
   "display_name": "Python 3",
   "language": "python",
   "name": "python3"
  },
  "language_info": {
   "codemirror_mode": {
    "name": "ipython",
    "version": 3
   },
   "file_extension": ".py",
   "mimetype": "text/x-python",
   "name": "python",
   "nbconvert_exporter": "python",
   "pygments_lexer": "ipython3",
   "version": "3.6.4"
  }
 },
 "nbformat": 4,
 "nbformat_minor": 2
}
